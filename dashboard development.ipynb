{
 "cells": [
  {
   "cell_type": "code",
   "execution_count": 4,
   "id": "f28325a1",
   "metadata": {},
   "outputs": [
    {
     "data": {
      "text/html": [
       "\n",
       "        <iframe\n",
       "            width=\"100%\"\n",
       "            height=\"650\"\n",
       "            src=\"http://127.0.0.1:8050/\"\n",
       "            frameborder=\"0\"\n",
       "            allowfullscreen\n",
       "            \n",
       "        ></iframe>\n",
       "        "
      ],
      "text/plain": [
       "<IPython.lib.display.IFrame at 0x12e9c7b10>"
      ]
     },
     "metadata": {},
     "output_type": "display_data"
    }
   ],
   "source": [
    "import dash\n",
    "from dash import dcc, html, Input, Output\n",
    "import pandas as pd\n",
    "import plotly.express as px\n",
    "\n",
    "# Sample dataset (you can replace with your own CSV)\n",
    "df = px.data.iris()\n",
    "\n",
    "# Initialize the app\n",
    "app = dash.Dash(__name__)\n",
    "server = app.server\n",
    "\n",
    "# App layout\n",
    "app.layout = html.Div([\n",
    "    html.H1(\"CODTECH Internship - Task 3: Dashboard\"),\n",
    "    \n",
    "    html.Label(\"Select Species:\"),\n",
    "    dcc.Dropdown(\n",
    "        id='species-filter',\n",
    "        options=[{'label': s, 'value': s} for s in df['species'].unique()],\n",
    "        value='setosa'\n",
    "    ),\n",
    "\n",
    "    dcc.Graph(id='feature-graph'),\n",
    "\n",
    "    html.H4(\"Filtered Data Table\"),\n",
    "    html.Div(id='data-table')\n",
    "])\n",
    "\n",
    "# Callback for interactivity\n",
    "@app.callback(\n",
    "    Output('feature-graph', 'figure'),\n",
    "    Output('data-table', 'children'),\n",
    "    Input('species-filter', 'value')\n",
    ")\n",
    "def update_dashboard(selected_species):\n",
    "    filtered_df = df[df['species'] == selected_species]\n",
    "    fig = px.scatter(\n",
    "        filtered_df, \n",
    "        x='sepal_width', \n",
    "        y='sepal_length',\n",
    "        color='species',\n",
    "        title=f'Sepal Width vs Length for {selected_species}'\n",
    "    )\n",
    "    table = html.Table([\n",
    "        html.Thead(html.Tr([html.Th(col) for col in filtered_df.columns])),\n",
    "        html.Tbody([\n",
    "            html.Tr([html.Td(val) for val in row]) for row in filtered_df.values\n",
    "        ])\n",
    "    ])\n",
    "    return fig, table\n",
    "\n",
    "# ✅ Use this in Dash 2.16+\n",
    "if __name__ == '__main__':\n",
    "    app.run(debug=True)\n"
   ]
  }
 ],
 "metadata": {
  "kernelspec": {
   "display_name": "Python 3",
   "language": "python",
   "name": "python3"
  },
  "language_info": {
   "codemirror_mode": {
    "name": "ipython",
    "version": 3
   },
   "file_extension": ".py",
   "mimetype": "text/x-python",
   "name": "python",
   "nbconvert_exporter": "python",
   "pygments_lexer": "ipython3",
   "version": "3.13.4"
  }
 },
 "nbformat": 4,
 "nbformat_minor": 5
}
